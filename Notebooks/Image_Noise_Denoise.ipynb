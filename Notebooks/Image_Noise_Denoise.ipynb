{
  "nbformat": 4,
  "nbformat_minor": 0,
  "metadata": {
    "colab": {
      "provenance": []
    },
    "kernelspec": {
      "name": "python3",
      "display_name": "Python 3"
    },
    "language_info": {
      "name": "python"
    }
  },
  "cells": [
    {
      "cell_type": "markdown",
      "source": [
        "Pre reqs"
      ],
      "metadata": {
        "id": "je5pSCwnEQo0"
      }
    },
    {
      "cell_type": "code",
      "source": [
        "!pip install inference-sdk"
      ],
      "metadata": {
        "colab": {
          "base_uri": "https://localhost:8080/"
        },
        "id": "Hbo17oBmEUCi",
        "outputId": "7f6d3951-ef01-4aa6-b69f-dc12d98a5c38"
      },
      "execution_count": null,
      "outputs": [
        {
          "output_type": "stream",
          "name": "stdout",
          "text": [
            "Collecting inference-sdk\n",
            "  Downloading inference_sdk-0.15.2-py3-none-any.whl.metadata (11 kB)\n",
            "Requirement already satisfied: requests>=2.0.0 in /usr/local/lib/python3.10/dist-packages (from inference-sdk) (2.31.0)\n",
            "Collecting dataclasses-json>=0.6.0 (from inference-sdk)\n",
            "  Downloading dataclasses_json-0.6.7-py3-none-any.whl.metadata (25 kB)\n",
            "Requirement already satisfied: opencv-python>=4.8.0.0 in /usr/local/lib/python3.10/dist-packages (from inference-sdk) (4.10.0.84)\n",
            "Requirement already satisfied: pillow>=9.0.0 in /usr/local/lib/python3.10/dist-packages (from inference-sdk) (9.4.0)\n",
            "Collecting supervision<1.0.0,>=0.20.0 (from inference-sdk)\n",
            "  Downloading supervision-0.22.0-py3-none-any.whl.metadata (13 kB)\n",
            "Requirement already satisfied: numpy<=1.26.4 in /usr/local/lib/python3.10/dist-packages (from inference-sdk) (1.26.4)\n",
            "Requirement already satisfied: aiohttp>=3.9.0 in /usr/local/lib/python3.10/dist-packages (from inference-sdk) (3.10.0)\n",
            "Collecting backoff>=2.2.0 (from inference-sdk)\n",
            "  Downloading backoff-2.2.1-py3-none-any.whl.metadata (14 kB)\n",
            "Collecting aioresponses>=0.7.6 (from inference-sdk)\n",
            "  Downloading aioresponses-0.7.6-py2.py3-none-any.whl.metadata (9.8 kB)\n",
            "Requirement already satisfied: py-cpuinfo>=9.0.0 in /usr/local/lib/python3.10/dist-packages (from inference-sdk) (9.0.0)\n",
            "Requirement already satisfied: aiohappyeyeballs>=2.3.0 in /usr/local/lib/python3.10/dist-packages (from aiohttp>=3.9.0->inference-sdk) (2.3.4)\n",
            "Requirement already satisfied: aiosignal>=1.1.2 in /usr/local/lib/python3.10/dist-packages (from aiohttp>=3.9.0->inference-sdk) (1.3.1)\n",
            "Requirement already satisfied: attrs>=17.3.0 in /usr/local/lib/python3.10/dist-packages (from aiohttp>=3.9.0->inference-sdk) (23.2.0)\n",
            "Requirement already satisfied: frozenlist>=1.1.1 in /usr/local/lib/python3.10/dist-packages (from aiohttp>=3.9.0->inference-sdk) (1.4.1)\n",
            "Requirement already satisfied: multidict<7.0,>=4.5 in /usr/local/lib/python3.10/dist-packages (from aiohttp>=3.9.0->inference-sdk) (6.0.5)\n",
            "Requirement already satisfied: yarl<2.0,>=1.0 in /usr/local/lib/python3.10/dist-packages (from aiohttp>=3.9.0->inference-sdk) (1.9.4)\n",
            "Requirement already satisfied: async-timeout<5.0,>=4.0 in /usr/local/lib/python3.10/dist-packages (from aiohttp>=3.9.0->inference-sdk) (4.0.3)\n",
            "Collecting marshmallow<4.0.0,>=3.18.0 (from dataclasses-json>=0.6.0->inference-sdk)\n",
            "  Downloading marshmallow-3.21.3-py3-none-any.whl.metadata (7.1 kB)\n",
            "Collecting typing-inspect<1,>=0.4.0 (from dataclasses-json>=0.6.0->inference-sdk)\n",
            "  Downloading typing_inspect-0.9.0-py3-none-any.whl.metadata (1.5 kB)\n",
            "Requirement already satisfied: charset-normalizer<4,>=2 in /usr/local/lib/python3.10/dist-packages (from requests>=2.0.0->inference-sdk) (3.3.2)\n",
            "Requirement already satisfied: idna<4,>=2.5 in /usr/local/lib/python3.10/dist-packages (from requests>=2.0.0->inference-sdk) (3.7)\n",
            "Requirement already satisfied: urllib3<3,>=1.21.1 in /usr/local/lib/python3.10/dist-packages (from requests>=2.0.0->inference-sdk) (2.0.7)\n",
            "Requirement already satisfied: certifi>=2017.4.17 in /usr/local/lib/python3.10/dist-packages (from requests>=2.0.0->inference-sdk) (2024.7.4)\n",
            "Requirement already satisfied: defusedxml<0.8.0,>=0.7.1 in /usr/local/lib/python3.10/dist-packages (from supervision<1.0.0,>=0.20.0->inference-sdk) (0.7.1)\n",
            "Requirement already satisfied: matplotlib>=3.6.0 in /usr/local/lib/python3.10/dist-packages (from supervision<1.0.0,>=0.20.0->inference-sdk) (3.7.1)\n",
            "Requirement already satisfied: opencv-python-headless>=4.5.5.64 in /usr/local/lib/python3.10/dist-packages (from supervision<1.0.0,>=0.20.0->inference-sdk) (4.10.0.84)\n",
            "Requirement already satisfied: pyyaml>=5.3 in /usr/local/lib/python3.10/dist-packages (from supervision<1.0.0,>=0.20.0->inference-sdk) (6.0.1)\n",
            "Requirement already satisfied: scipy<2.0.0,>=1.10.0 in /usr/local/lib/python3.10/dist-packages (from supervision<1.0.0,>=0.20.0->inference-sdk) (1.13.1)\n",
            "Requirement already satisfied: packaging>=17.0 in /usr/local/lib/python3.10/dist-packages (from marshmallow<4.0.0,>=3.18.0->dataclasses-json>=0.6.0->inference-sdk) (24.1)\n",
            "Requirement already satisfied: contourpy>=1.0.1 in /usr/local/lib/python3.10/dist-packages (from matplotlib>=3.6.0->supervision<1.0.0,>=0.20.0->inference-sdk) (1.2.1)\n",
            "Requirement already satisfied: cycler>=0.10 in /usr/local/lib/python3.10/dist-packages (from matplotlib>=3.6.0->supervision<1.0.0,>=0.20.0->inference-sdk) (0.12.1)\n",
            "Requirement already satisfied: fonttools>=4.22.0 in /usr/local/lib/python3.10/dist-packages (from matplotlib>=3.6.0->supervision<1.0.0,>=0.20.0->inference-sdk) (4.53.1)\n",
            "Requirement already satisfied: kiwisolver>=1.0.1 in /usr/local/lib/python3.10/dist-packages (from matplotlib>=3.6.0->supervision<1.0.0,>=0.20.0->inference-sdk) (1.4.5)\n",
            "Requirement already satisfied: pyparsing>=2.3.1 in /usr/local/lib/python3.10/dist-packages (from matplotlib>=3.6.0->supervision<1.0.0,>=0.20.0->inference-sdk) (3.1.2)\n",
            "Requirement already satisfied: python-dateutil>=2.7 in /usr/local/lib/python3.10/dist-packages (from matplotlib>=3.6.0->supervision<1.0.0,>=0.20.0->inference-sdk) (2.8.2)\n",
            "Collecting mypy-extensions>=0.3.0 (from typing-inspect<1,>=0.4.0->dataclasses-json>=0.6.0->inference-sdk)\n",
            "  Downloading mypy_extensions-1.0.0-py3-none-any.whl.metadata (1.1 kB)\n",
            "Requirement already satisfied: typing-extensions>=3.7.4 in /usr/local/lib/python3.10/dist-packages (from typing-inspect<1,>=0.4.0->dataclasses-json>=0.6.0->inference-sdk) (4.12.2)\n",
            "Requirement already satisfied: six>=1.5 in /usr/local/lib/python3.10/dist-packages (from python-dateutil>=2.7->matplotlib>=3.6.0->supervision<1.0.0,>=0.20.0->inference-sdk) (1.16.0)\n",
            "Downloading inference_sdk-0.15.2-py3-none-any.whl (30 kB)\n",
            "Downloading aioresponses-0.7.6-py2.py3-none-any.whl (11 kB)\n",
            "Downloading backoff-2.2.1-py3-none-any.whl (15 kB)\n",
            "Downloading dataclasses_json-0.6.7-py3-none-any.whl (28 kB)\n",
            "Downloading supervision-0.22.0-py3-none-any.whl (135 kB)\n",
            "\u001b[2K   \u001b[90m━━━━━━━━━━━━━━━━━━━━━━━━━━━━━━━━━━━━━━━━\u001b[0m \u001b[32m135.7/135.7 kB\u001b[0m \u001b[31m2.4 MB/s\u001b[0m eta \u001b[36m0:00:00\u001b[0m\n",
            "\u001b[?25hDownloading marshmallow-3.21.3-py3-none-any.whl (49 kB)\n",
            "\u001b[2K   \u001b[90m━━━━━━━━━━━━━━━━━━━━━━━━━━━━━━━━━━━━━━━━\u001b[0m \u001b[32m49.2/49.2 kB\u001b[0m \u001b[31m2.4 MB/s\u001b[0m eta \u001b[36m0:00:00\u001b[0m\n",
            "\u001b[?25hDownloading typing_inspect-0.9.0-py3-none-any.whl (8.8 kB)\n",
            "Downloading mypy_extensions-1.0.0-py3-none-any.whl (4.7 kB)\n",
            "Installing collected packages: mypy-extensions, marshmallow, backoff, typing-inspect, supervision, dataclasses-json, aioresponses, inference-sdk\n",
            "Successfully installed aioresponses-0.7.6 backoff-2.2.1 dataclasses-json-0.6.7 inference-sdk-0.15.2 marshmallow-3.21.3 mypy-extensions-1.0.0 supervision-0.22.0 typing-inspect-0.9.0\n"
          ]
        }
      ]
    },
    {
      "cell_type": "markdown",
      "source": [
        "Importing Libraries"
      ],
      "metadata": {
        "id": "RbQgX3UXEbF2"
      }
    },
    {
      "cell_type": "code",
      "source": [
        "from inference_sdk import InferenceHTTPClient\n",
        "import numpy as np\n",
        "from PIL import Image\n",
        "import requests\n",
        "import io"
      ],
      "metadata": {
        "id": "T7M0kda-EeD5"
      },
      "execution_count": null,
      "outputs": []
    },
    {
      "cell_type": "markdown",
      "source": [
        "Functions Definitions"
      ],
      "metadata": {
        "id": "Piq1oGq7EnuO"
      }
    },
    {
      "cell_type": "code",
      "source": [
        "def api_predict(image):\n",
        "    CLIENT = InferenceHTTPClient(\n",
        "    api_url=\"https://classify.roboflow.com\",\n",
        "    api_key=\"rF6T4VHoa0dFRGvtKQS0\")\n",
        "\n",
        "    response = CLIENT.infer(image, model_id=\"wiki-art/2\")\n",
        "\n",
        "    return (response['predictions'][0]['class_id'])\n",
        "\n",
        "def targeted_attack(image_path, epsilon, alpha, num_iter,actual_class):\n",
        "    # Load the image\n",
        "    image = Image.open(image_path).convert('RGB')\n",
        "    image_np = np.array(image, dtype=np.float32) / 255.0\n",
        "\n",
        "    for _ in range(num_iter):\n",
        "        # Perturb the image slightly\n",
        "        perturbation = np.random.uniform(-alpha, alpha, image_np.shape)\n",
        "        image_np = np.clip(image_np + perturbation, 0, 1)\n",
        "\n",
        "        # Convert back to PIL image\n",
        "        perturbed_image = Image.fromarray((image_np * 255).astype(np.uint8))\n",
        "\n",
        "        # Check the prediction\n",
        "        predicted_class = api_predict(perturbed_image)\n",
        "\n",
        "        # Break the loop if we achieve the target class\n",
        "        if predicted_class != actual_class:\n",
        "            print(f\"Target class achieved after {_+1} iterations\")\n",
        "            break\n",
        "\n",
        "    # Save the final adversarial image\n",
        "    perturbed_image.save('adversarial_image.png')\n",
        "    return perturbed_image\n",
        "\n",
        "def add_noise(image_path,epsilon,alpha): #0.1 & 0.01\n",
        "  actual_class = api_predict(image_path)\n",
        "  num_iter = 1000\n",
        "\n",
        "  adversarial_image = targeted_attack(image_path, epsilon, alpha, num_iter,actual_class)\n",
        "  return adversarial_image"
      ],
      "metadata": {
        "id": "ByghTyYNEq_f"
      },
      "execution_count": null,
      "outputs": []
    },
    {
      "cell_type": "markdown",
      "source": [
        "Noise Addition\n"
      ],
      "metadata": {
        "id": "qea-7P0QEIuz"
      }
    },
    {
      "cell_type": "code",
      "execution_count": null,
      "metadata": {
        "colab": {
          "base_uri": "https://localhost:8080/"
        },
        "id": "GLfWoMvtDO6V",
        "outputId": "77218538-ba26-4478-818a-d85337b2d1dc"
      },
      "outputs": [
        {
          "output_type": "stream",
          "name": "stdout",
          "text": [
            "Enter the image path: /content/naive.jpeg\n",
            "Enter parameters for noise addition: \n",
            "Epsilon: 0.1\n",
            "Alpha: 0.01\n",
            "Target class achieved after 141 iterations\n"
          ]
        }
      ],
      "source": [
        "image_path=input(\"Enter the image path: \")\n",
        "print(\"Enter parameters for noise addition: \")\n",
        "epsilon = float(input(\"Epsilon: \"))\n",
        "alpha = float(input(\"Alpha: \"))\n",
        "\n",
        "noisy=add_noise(image_path,epsilon,alpha)"
      ]
    }
  ]
}